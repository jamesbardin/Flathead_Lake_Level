{
 "cells": [
  {
   "cell_type": "code",
   "execution_count": 6,
   "metadata": {},
   "outputs": [
    {
     "ename": "HTTPError",
     "evalue": "404 Client Error: NOT FOUND for url: https://waterdata.usgs.gov/monitoring=location/?format=json&sites=12363500&parameterCd=00065",
     "output_type": "error",
     "traceback": [
      "\u001b[1;31m---------------------------------------------------------------------------\u001b[0m",
      "\u001b[1;31mHTTPError\u001b[0m                                 Traceback (most recent call last)",
      "Cell \u001b[1;32mIn[6], line 21\u001b[0m\n\u001b[0;32m     18\u001b[0m     \u001b[39mreturn\u001b[39;00m response\u001b[39m.\u001b[39mjson()\n\u001b[0;32m     20\u001b[0m site_number \u001b[39m=\u001b[39m \u001b[39m\"\u001b[39m\u001b[39m12363500\u001b[39m\u001b[39m\"\u001b[39m  \u001b[39m# Replace with a valid USGS site number\u001b[39;00m\n\u001b[1;32m---> 21\u001b[0m data \u001b[39m=\u001b[39m fetch_usgs_streamflow_data(site_number)\n\u001b[0;32m     23\u001b[0m \u001b[39m# Extract and print the streamflow value (in cubic feet per second)\u001b[39;00m\n\u001b[0;32m     24\u001b[0m streamflow_cfs \u001b[39m=\u001b[39m data[\u001b[39m'\u001b[39m\u001b[39mvalue\u001b[39m\u001b[39m'\u001b[39m][\u001b[39m'\u001b[39m\u001b[39mtimeSeries\u001b[39m\u001b[39m'\u001b[39m][\u001b[39m0\u001b[39m][\u001b[39m'\u001b[39m\u001b[39mvalues\u001b[39m\u001b[39m'\u001b[39m][\u001b[39m0\u001b[39m][\u001b[39m'\u001b[39m\u001b[39mvalue\u001b[39m\u001b[39m'\u001b[39m][\u001b[39m0\u001b[39m][\u001b[39m'\u001b[39m\u001b[39mvalue\u001b[39m\u001b[39m'\u001b[39m]\n",
      "Cell \u001b[1;32mIn[6], line 16\u001b[0m, in \u001b[0;36mfetch_usgs_streamflow_data\u001b[1;34m(site_number)\u001b[0m\n\u001b[0;32m     14\u001b[0m \u001b[39m# Make the API request\u001b[39;00m\n\u001b[0;32m     15\u001b[0m response \u001b[39m=\u001b[39m requests\u001b[39m.\u001b[39mget(base_url, params\u001b[39m=\u001b[39mparams)\n\u001b[1;32m---> 16\u001b[0m response\u001b[39m.\u001b[39;49mraise_for_status()     \u001b[39m# check if the request was successful\u001b[39;00m\n\u001b[0;32m     18\u001b[0m \u001b[39mreturn\u001b[39;00m response\u001b[39m.\u001b[39mjson()\n",
      "File \u001b[1;32mc:\\ProgramData\\Anaconda3\\lib\\site-packages\\requests\\models.py:1021\u001b[0m, in \u001b[0;36mResponse.raise_for_status\u001b[1;34m(self)\u001b[0m\n\u001b[0;32m   1016\u001b[0m     http_error_msg \u001b[39m=\u001b[39m (\n\u001b[0;32m   1017\u001b[0m         \u001b[39mf\u001b[39m\u001b[39m\"\u001b[39m\u001b[39m{\u001b[39;00m\u001b[39mself\u001b[39m\u001b[39m.\u001b[39mstatus_code\u001b[39m}\u001b[39;00m\u001b[39m Server Error: \u001b[39m\u001b[39m{\u001b[39;00mreason\u001b[39m}\u001b[39;00m\u001b[39m for url: \u001b[39m\u001b[39m{\u001b[39;00m\u001b[39mself\u001b[39m\u001b[39m.\u001b[39murl\u001b[39m}\u001b[39;00m\u001b[39m\"\u001b[39m\n\u001b[0;32m   1018\u001b[0m     )\n\u001b[0;32m   1020\u001b[0m \u001b[39mif\u001b[39;00m http_error_msg:\n\u001b[1;32m-> 1021\u001b[0m     \u001b[39mraise\u001b[39;00m HTTPError(http_error_msg, response\u001b[39m=\u001b[39m\u001b[39mself\u001b[39m)\n",
      "\u001b[1;31mHTTPError\u001b[0m: 404 Client Error: NOT FOUND for url: https://waterdata.usgs.gov/monitoring=location/?format=json&sites=12363500&parameterCd=00065"
     ]
    }
   ],
   "source": [
    "import requests\n",
    "\n",
    "def fetch_usgs_streamflow_data(site_number):\n",
    "    # Define the base URL for the USGS Instantaneous Values service\n",
    "    base_url = \"https://waterdata.usgs.gov/monitoring-location/12363500/#parameterCode=00065&period=P7D\"\n",
    "\n",
    "    # Parameters for the API request\n",
    "    # params = {\n",
    "    #     \"format\": \"json\",             # get results in JSON format\n",
    "    #     \"sites\": site_number,         # site number for the specific site\n",
    "    #     \"parameterCd\": \"00065\"        # 00060 is the code for streamflow\n",
    "    # }\n",
    "\n",
    "    # Make the API request\n",
    "    response = requests.get(base_url)\n",
    "    response.raise_for_status()     # check if the request was successful\n",
    "\n",
    "    return response.json()\n",
    "\n",
    "site_number = \"12363500\"  # Replace with a valid USGS site number\n",
    "data = fetch_usgs_streamflow_data(site_number)\n",
    "\n",
    "# Extract and print the streamflow value (in cubic feet per second)\n",
    "streamflow_cfs = data['value']['timeSeries'][0]['values'][0]['value'][0]['value']\n",
    "print(f\"Streamflow: {streamflow_cfs} cfs\")\n",
    "\n"
   ]
  }
 ],
 "metadata": {
  "kernelspec": {
   "display_name": "base",
   "language": "python",
   "name": "python3"
  },
  "language_info": {
   "codemirror_mode": {
    "name": "ipython",
    "version": 3
   },
   "file_extension": ".py",
   "mimetype": "text/x-python",
   "name": "python",
   "nbconvert_exporter": "python",
   "pygments_lexer": "ipython3",
   "version": "3.9.13"
  },
  "orig_nbformat": 4
 },
 "nbformat": 4,
 "nbformat_minor": 2
}
